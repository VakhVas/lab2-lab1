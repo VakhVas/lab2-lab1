{
 "cells": [
  {
   "cell_type": "markdown",
   "metadata": {
    "id": "vC84e9kzyxPy"
   },
   "source": [
    "<h1>Импорт библиотек"
   ]
  },
  {
   "cell_type": "markdown",
   "metadata": {
    "id": "Ha7NhE79G2ao"
   },
   "source": [
    "# Подготовка doctest\n",
    "<p>Буду использовать для тестирования</p>"
   ]
  },
  {
   "cell_type": "code",
   "execution_count": 1,
   "metadata": {
    "id": "mZsi-JVl392Y"
   },
   "outputs": [],
   "source": [
    "import doctest\n",
    "from IPython.core.magic import register_cell_magic\n",
    "\n",
    "# Магия ячейки для запуска doctest\n",
    "@register_cell_magic\n",
    "def doctest_magic(line, cell):\n",
    "    # Инициализируем код из ячейки\n",
    "    exec(cell, globals())\n",
    "\n",
    "    # Ищем все локальные объекты\n",
    "    local_vars = {}\n",
    "    exec(cell, globals(), local_vars)\n",
    "\n",
    "    # Проходим по всем объектам в локальных переменных и ищем docstring'и для тестирования\n",
    "    for name, obj in local_vars.items():\n",
    "        if callable(obj):  # Проверяем, объект является функцией или классом\n",
    "            print(f\"Running doctests for {name}...\\n\")\n",
    "            try:\n",
    "                doctest.run_docstring_examples(obj, globals(), name=name, verbose=True)\n",
    "            except Exception as e:\n",
    "                print(f\"Error running doctests for {name}: {e}\")"
   ]
  },
  {
   "cell_type": "code",
   "execution_count": 2,
   "metadata": {
    "id": "cgKeNegmQG5S"
   },
   "outputs": [],
   "source": [
    "import numpy as np\n",
    "import matplotlib.pyplot as plt"
   ]
  },
  {
   "cell_type": "markdown",
   "metadata": {
    "id": "qFM9uVU2x4Ls"
   },
   "source": [
    "<h1>Задача 1. Дан набор из $p$ матриц размерностью $(n, n)$ и $p$ векторов размерностью $(n, 1)$, найти сумму произведений матриц на векторы. Написать тесты для кода"
   ]
  },
  {
   "cell_type": "code",
   "execution_count": 70,
   "metadata": {
    "colab": {
     "base_uri": "https://localhost:8080/"
    },
    "id": "IAbUvEiYyWFF",
    "outputId": "0b28ee16-7756-4ea2-d1e6-65c37babb78c"
   },
   "outputs": [
    {
     "name": "stdout",
     "output_type": "stream",
     "text": [
      "Running doctests for sum_prod...\n",
      "\n",
      "Finding tests in sum_prod\n",
      "Trying:\n",
      "    sum_prod([np.array([[0, 0, 1], [0, 1, 0], [1, 0, 2]]), np.array([[2, 0, 1], [2, 1, 4], [2, 0, 4]])], [np.array([[6], [3], [2]]), np.array([[4], [1], [1]])])\n",
      "Expecting:\n",
      "    [[11]\n",
      "     [16]\n",
      "     [22]]\n",
      "ok\n"
     ]
    }
   ],
   "source": [
    "%%doctest_magic\n",
    "def sum_prod(X, V):\n",
    "    '''\n",
    "    X - матрицы (n, n)\n",
    "    V - векторы (n, 1)\n",
    "    Гарантируется, что len(X) == len(V)\n",
    "    >>> sum_prod([np.array([[0, 0, 1], [0, 1, 0], [1, 0, 2]]), np.array([[2, 0, 1], [2, 1, 4], [2, 0, 4]])], [np.array([[6], [3], [2]]), np.array([[4], [1], [1]])])\n",
    "    [[11]\n",
    "     [16]\n",
    "     [22]]\n",
    "    '''\n",
    "    count = len(V)\n",
    "    result = np.nan\n",
    "    for i in range(count):\n",
    "        matrix = np.dot(X[i], V[i])\n",
    "        if result is np.nan:\n",
    "            result = matrix\n",
    "        else:\n",
    "            result = np.add(result, matrix)\n",
    "    print(result)\n"
   ]
  },
  {
   "cell_type": "markdown",
   "metadata": {
    "id": "TKwPG4fIy2w4"
   },
   "source": [
    "<h1>Задача 2. Дана матрица M, напишите функцию, которая бинаризует матрицу по некоторому threshold (то есть, все значения большие threshold становятся равными 1, иначе 0). Напишите тесты для кода"
   ]
  },
  {
   "cell_type": "code",
   "execution_count": 67,
   "metadata": {
    "colab": {
     "base_uri": "https://localhost:8080/"
    },
    "id": "KQDNMgsjRNH7",
    "outputId": "549e0b95-a5fe-4246-e8ce-6be7810179f0"
   },
   "outputs": [
    {
     "name": "stdout",
     "output_type": "stream",
     "text": [
      "Running doctests for binarize...\n",
      "\n",
      "Finding tests in binarize\n",
      "Trying:\n",
      "    binarize(np.array([[1, 0, 2], [0, 1, 0], [1, 1, 0]]), threshold=0.5)\n",
      "Expecting:\n",
      "    [[1 0 1]\n",
      "     [0 1 0]\n",
      "     [1 1 0]]\n",
      "ok\n"
     ]
    }
   ],
   "source": [
    "%%doctest_magic\n",
    "def binarize(M, threshold=0.5):\n",
    "    \"\"\"\n",
    "    >>> binarize(np.array([[1, 0, 2], [0, 1, 0], [1, 1, 0]]), threshold=0.5)\n",
    "    [[1 0 1]\n",
    "     [0 1 0]\n",
    "     [1 1 0]]\n",
    "    \"\"\"\n",
    "    result = M.copy()\n",
    "    for i in range(len(M)):\n",
    "        for j in range(len(M[0])):\n",
    "            result[i][j] = 1 if M[i][j] > threshold else 0\n",
    "    print(result)"
   ]
  },
  {
   "cell_type": "markdown",
   "metadata": {
    "id": "IY5L-h-7zWhN"
   },
   "source": [
    "<h1>Задача 3. Напишите функцию, которая возвращает уникальные элементы из каждой строки матрицы. Напишите такую же функцию, но для столбцов. Напишите тесты для кода"
   ]
  },
  {
   "cell_type": "code",
   "execution_count": 66,
   "metadata": {
    "colab": {
     "base_uri": "https://localhost:8080/"
    },
    "id": "-8dEZhR0SBC-",
    "outputId": "703030bb-22a6-44ef-9c64-00f279126999"
   },
   "outputs": [
    {
     "name": "stdout",
     "output_type": "stream",
     "text": [
      "Running doctests for unique_rows...\n",
      "\n",
      "Finding tests in unique_rows\n",
      "Trying:\n",
      "    unique_rows(np.array([[2, 3, 0], [0, 1, 1], [2, 1, 2]]))\n",
      "Expecting:\n",
      "    [0 2 3]\n",
      "    [0 1]\n",
      "    [1 2]\n",
      "ok\n",
      "Running doctests for unique_columns...\n",
      "\n",
      "Finding tests in unique_columns\n",
      "Trying:\n",
      "    unique_columns(np.array([[2, 3, 0], [0, 1, 1], [2, 1, 2]]))\n",
      "Expecting:\n",
      "    [0 2]\n",
      "    [1 3]\n",
      "    [0 1 2]\n",
      "ok\n"
     ]
    }
   ],
   "source": [
    "%%doctest_magic\n",
    "def unique_rows(mat):\n",
    "    \"\"\"\n",
    "    >>> unique_rows(np.array([[2, 3, 0], [0, 1, 1], [2, 1, 2]]))\n",
    "    [0 2 3]\n",
    "    [0 1]\n",
    "    [1 2]\n",
    "    \"\"\"\n",
    "    n = len(mat)\n",
    "    for i in range(n):\n",
    "        print(np.unique(mat[i]))\n",
    "\n",
    "\n",
    "def unique_columns(mat):\n",
    "    \"\"\"\n",
    "    >>> unique_columns(np.array([[2, 3, 0], [0, 1, 1], [2, 1, 2]]))\n",
    "    [0 2]\n",
    "    [1 3]\n",
    "    [0 1 2]\n",
    "    \"\"\"\n",
    "    countRaws = len(mat)\n",
    "    countCols = len(mat[0])\n",
    "    for i in range(countRaws):\n",
    "        print(np.unique([mat[j][i] for j in range(countCols)]))"
   ]
  },
  {
   "cell_type": "markdown",
   "metadata": {
    "id": "roYAlo4Jz-lH"
   },
   "source": [
    "<h1>Задача 4. Напишите функцию, которая заполняет матрицу с размерами $(m, n)$ случайными числами, распределенными по нормальному закону. Затем считает мат. ожидание и дисперсию для каждого из столбцов и строк, а также строит для каждой строки и столбца гистограмму значений (использовать функцию hist из модуля matplotlib.plot)"
   ]
  },
  {
   "cell_type": "code",
   "execution_count": 44,
   "metadata": {
    "id": "nZK_71hMSQzv"
   },
   "outputs": [],
   "source": [
    "def normal_distribution_func(m, n):\n",
    "    mat = np.random.normal(150, 10, (m, n))\n",
    "    \n",
    "    for i in range(m):\n",
    "        _, ax = plt.subplots()\n",
    "        mean = mat[i].mean()\n",
    "        var = mat[i].var()\n",
    "        print(f'мат. ожидание - {mean}, срока номер {i + 1}')\n",
    "        print(f'дисперсия - {var}, срока номер {i + 1}')\n",
    "        ax.hist(mat[i])\n",
    "        ax.set_title(f'строка номер {i + 1}')\n",
    "\n",
    "    for j in range(n):\n",
    "        _, ax = plt.subplots()\n",
    "        columns = np.array([mat[j][i] for j in range(m)])\n",
    "        mean = columns.mean()\n",
    "        var = columns.var()\n",
    "        print(f'мат. ожидание - {mean}, колонка номер {i + 1}')\n",
    "        print(f'дисперсия - {var}, колонка номер {i + 1}')\n",
    "        ax.hist(columns)\n",
    "        ax.set_title(f'колонка номер {i + 1}')"
   ]
  },
  {
   "cell_type": "code",
   "execution_count": 42,
   "metadata": {
    "colab": {
     "base_uri": "https://localhost:8080/",
     "height": 1000
    },
    "id": "L0gggKC1nBKU",
    "outputId": "84062030-6bb4-4ecb-8427-97e0ae1e1a8e"
   },
   "outputs": [
    {
     "name": "stdout",
     "output_type": "stream",
     "text": [
      "мат. ожидание - 154.74648758660533, срока номер 1\n",
      "дисперсия - 30.875742631663925, срока номер 1\n",
      "мат. ожидание - 145.9883720132964, срока номер 2\n",
      "дисперсия - 30.74804392920411, срока номер 2\n",
      "мат. ожидание - 144.8165866024941, колонка номер 2\n",
      "дисперсия - 19.12580945109809, колонка номер 2\n",
      "мат. ожидание - 144.8165866024941, колонка номер 2\n",
      "дисперсия - 19.12580945109809, колонка номер 2\n"
     ]
    },
    {
     "data": {
      "image/png": "[encoded data removed]",
      "text/plain": [
       "<Figure size 640x480 with 1 Axes>"
      ]
     },
     "metadata": {},
     "output_type": "display_data"
    },
    {
     "data": {
      "image/png": "[encoded data removed]",
      "text/plain": [
       "<Figure size 640x480 with 1 Axes>"
      ]
     },
     "metadata": {},
     "output_type": "display_data"
    },
    {
     "data": {
      "image/png": "[encoded data removed]",
      "text/plain": [
       "<Figure size 640x480 with 1 Axes>"
      ]
     },
     "metadata": {},
     "output_type": "display_data"
    },
    {
     "data": {
      "image/png": "[encoded data removed]",
      "text/plain": [
       "<Figure size 640x480 with 1 Axes>"
      ]
     },
     "metadata": {},
     "output_type": "display_data"
    }
   ],
   "source": [
    "normal_distribution_func(2, 2)"
   ]
  },
  {
   "cell_type": "markdown",
   "metadata": {
    "id": "BDyATNdM0dJ2"
   },
   "source": [
    "<h1>Задача 5. Напишите функцию, которая заполняет матрицу $(m, n)$ в шахматном порядке заданными числами $a$ и $b$. Напишите тесты для кода"
   ]
  },
  {
   "cell_type": "code",
   "execution_count": 68,
   "metadata": {
    "colab": {
     "base_uri": "https://localhost:8080/"
    },
    "id": "RWNJYWQGecS6",
    "outputId": "22433e4b-9713-4023-cdd9-7891944c28ed"
   },
   "outputs": [
    {
     "name": "stdout",
     "output_type": "stream",
     "text": [
      "Running doctests for chess...\n",
      "\n",
      "Finding tests in chess\n",
      "Trying:\n",
      "    chess(3, 3, 2, 1)\n",
      "Expecting:\n",
      "    [[2. 1. 2.]\n",
      "     [1. 2. 1.]\n",
      "     [2. 1. 2.]]\n",
      "ok\n"
     ]
    }
   ],
   "source": [
    "%%doctest_magic\n",
    "def chess(m, n, a, b):\n",
    "    \"\"\"\n",
    "    >>> chess(3, 3, 2, 1)\n",
    "    [[2. 1. 2.]\n",
    "     [1. 2. 1.]\n",
    "     [2. 1. 2.]]\n",
    "    \"\"\"\n",
    "    mat = np.eye(m, n)\n",
    "    for i in range(m):\n",
    "        for j in range(n):\n",
    "            if (i + j) % 2 == 0:\n",
    "                mat[i][j] = a\n",
    "            else:\n",
    "                mat[i][j] = b\n",
    "    print(mat)"
   ]
  },
  {
   "cell_type": "markdown",
   "metadata": {
    "id": "-ymXLtTN0vB6"
   },
   "source": [
    "<h1>Задача 6. Напишите функцию, которая отрисовывает прямоугольник с заданными размерами (a, b) на изображении размера (m, n), цвет фона задайте в схеме RGB, как и цвет прямоугольника. Цвета также должны быть параметрами функции. Напишите аналогичную функцию но для овала с полуосями a и b. Напишите тесты для кода.\n",
    "Примечание: уравнение эллипса (границы овала) можно записать как:\n",
    "<h1>$\\frac{(x-x_0)^2}{a^2}+\\frac{(y-y_0)^2}{b^2}=1$"
   ]
  },
  {
   "cell_type": "code",
   "execution_count": 52,
   "metadata": {
    "id": "2dNDPvbjMjpr"
   },
   "outputs": [],
   "source": [
    "from matplotlib.patches import Ellipse"
   ]
  },
  {
   "cell_type": "code",
   "execution_count": 59,
   "metadata": {
    "id": "sNfl1t_kfOF4"
   },
   "outputs": [],
   "source": [
    "def draw_rectangle(a, b, m, n, rectangle_color, background_color):\n",
    "    plt.figure(figsize = (m,n))\n",
    "    rectangle = plt.Rectangle(xy = 0, width = a / m, height = b / n, color = rectangle_color)\n",
    "    fig = plt.gcf()\n",
    "    ax = fig.gca()\n",
    "    ax.add_patch(rectangle)\n",
    "    ax.set_facecolor(background_color)\n",
    "    plt.show()\n",
    "\n",
    "def draw_ellipse(a, b, m, n, ellipse_color, background_color):\n",
    "    plt.figure(figsize = (m,n))\n",
    "    ellipse = Ellipse((0.5, 0.5), width = a / m, height = b / n, color = ellipse_color)\n",
    "    fig = plt.gcf()\n",
    "    ax = fig.gca()\n",
    "    ax.add_patch(ellipse)\n",
    "    ax.set_facecolor(background_color)\n",
    "    plt.show()"
   ]
  },
  {
   "cell_type": "markdown",
   "metadata": {
    "id": "S82c38oz244H"
   },
   "source": [
    "<h1>Задача 7. Дан некий временной ряд. Для данного ряда нужно найти его: математическое ожидание, дисперсию, СКО, найти все локальные максимумы и минимумы (локальный максимум - это точка, которая больше своих соседних точек, а локальный минимум - это точка, которая меньше своих соседей), а также вычислить для данного ряда другой ряд, получаемый методом скользящего среднего с размером окна $p$.\n",
    "<h1>Примечание: метод скользящего среднего подразумевает нахождение среднего из подмножетсва ряда размером $p$"
   ]
  },
  {
   "cell_type": "code",
   "execution_count": 69,
   "metadata": {
    "id": "Zb9mIVge5MMt"
   },
   "outputs": [],
   "source": [
    "def magic(time_series, p):\n",
    "    mean = time_series.mean()\n",
    "    var = time_series.var()\n",
    "    deviation = time_series.std()\n",
    "    print(f'мат. ожидание - {mean}')\n",
    "    print(f'дисперсия - {var}')\n",
    "    print(f'стандартное отклонение - {deviation}')\n",
    "\n",
    "    min = []\n",
    "    max = []\n",
    "    l = len(time_series)\n",
    "    flag = time_series[0] - time_series[1] > 0\n",
    "    for i in range(l - 1):\n",
    "        if flag != time_series[i] - time_series[i + 1] > 0:\n",
    "            if time_series[i] - time_series[i + 1] == 0:\n",
    "                continue\n",
    "            else:\n",
    "                max.append(time_series[i]) if flag else min.append(time_series[i])\n",
    "                flag = time_series[i] - time_series[i + 1] > 0\n",
    "    print(f'локальный максимум {max}')\n",
    "    print(f'локальный минимум {min}')\n",
    "    print(f'новый ряд - {[sum(time_series[i:i+p:1])/p for i in range(l-p)]}')"
   ]
  },
  {
   "cell_type": "markdown",
   "metadata": {
    "id": "jPkylmOX5O9n"
   },
   "source": [
    "<h1> Задача 8. Дан некоторый вектор с целочисленными метками классов, напишите функцию, которая выполняет one-hot-encoding для данного вектора\n",
    "<h1> One-hot-encoding - представление, в котором на месте метки некоторого класса стоит 1, в остальных позициях стоит 0. Например для вектора [0, 2, 3, 0] one-hot-encoding выглядит как: [[1, 0, 0, 0], [0, 0, 1, 0], [0, 0, 0, 1], [1, 0, 0, 0]]"
   ]
  },
  {
   "cell_type": "code",
   "execution_count": 57,
   "metadata": {
    "id": "Y-jlnZvw56lD"
   },
   "outputs": [],
   "source": [
    "def one_hot_encoding(vector):\n",
    "    num = np.max(vector) + 1\n",
    "    one_hot_matrix = np.zeros((len(vector), num), dtype=int)\n",
    "\n",
    "    for i, v in enumerate(vector):\n",
    "        one_hot_matrix[i, v] = 1\n",
    "\n",
    "    print(one_hot_matrix)"
   ]
  }
 ],
 "metadata": {
  "colab": {
   "provenance": []
  },
  "kernelspec": {
   "display_name": "Python 3 (ipykernel)",
   "language": "python",
   "name": "python3"
  },
  "language_info": {
   "codemirror_mode": {
    "name": "ipython",
    "version": 3
   },
   "file_extension": ".py",
   "mimetype": "text/x-python",
   "name": "python",
   "nbconvert_exporter": "python",
   "pygments_lexer": "ipython3",
   "version": "3.12.3"
  }
 },
 "nbformat": 4,
 "nbformat_minor": 4
}
