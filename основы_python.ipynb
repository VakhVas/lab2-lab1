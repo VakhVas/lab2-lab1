{
 "cells": [
  {
   "cell_type": "markdown",
   "metadata": {},
   "source": [
    "# Подготовка doctest для тестирования"
   ]
  },
  {
   "cell_type": "code",
   "execution_count": 6,
   "metadata": {},
   "outputs": [],
   "source": [
    "import doctest\n",
    "from IPython.core.magic import register_cell_magic\n",
    "\n",
    "# Магия ячейки для запуска doctest\n",
    "@register_cell_magic\n",
    "def doctest_magic(line, cell):\n",
    "    # Инициализируем код из ячейки\n",
    "    exec(cell, globals())\n",
    "\n",
    "    # Ищем все локальные объекты\n",
    "    local_vars = {}\n",
    "    exec(cell, globals(), local_vars)\n",
    "\n",
    "    # Проходим по всем объектам в локальных переменных и ищем docstring'и для тестирования\n",
    "    for name, obj in local_vars.items():\n",
    "        if callable(obj):  # Проверяем, объект является функцией или классом\n",
    "            print(f\"Running doctests for {name}...\\n\")\n",
    "            try:\n",
    "                doctest.run_docstring_examples(obj, globals(), name=name, verbose=True)\n",
    "            except Exception as e:\n",
    "                print(f\"Error running doctests for {name}: {e}\")"
   ]
  },
  {
   "cell_type": "markdown",
   "metadata": {
    "id": "M-DGa20PaHnu"
   },
   "source": [
    "#Задача 1\n",
    "Написать функцию на вход которой подается строка, состоящая из латинских букв.\n",
    "Функция должна вернуть количество гласных букв (a, e, i, o, u) в этой строке. Написать тесты для кода"
   ]
  },
  {
   "cell_type": "code",
   "execution_count": 13,
   "metadata": {
    "id": "XvX8X_JJ6PCb"
   },
   "outputs": [
    {
     "name": "stdout",
     "output_type": "stream",
     "text": [
      "Running doctests for counting...\n",
      "\n",
      "Finding tests in counting\n",
      "Trying:\n",
      "    counting(\"Python\")\n",
      "Expecting:\n",
      "    1\n",
      "ok\n",
      "Trying:\n",
      "    counting(\"AEIOU\")\n",
      "Expecting:\n",
      "    5\n",
      "ok\n",
      "Trying:\n",
      "    counting(\"\")\n",
      "Expecting:\n",
      "    0\n",
      "ok\n",
      "Trying:\n",
      "    counting(\"abcdefghijklmnopqrstuvwxyz\")\n",
      "Expecting:\n",
      "    5\n",
      "ok\n"
     ]
    }
   ],
   "source": [
    "%%doctest_magic\n",
    "def counting(s):\n",
    "    \"\"\"\n",
    "    >>> counting(\"Python\")\n",
    "    1\n",
    "    >>> counting(\"AEIOU\")\n",
    "    5\n",
    "    >>> counting(\"\")\n",
    "    0\n",
    "    >>> counting(\"abcdefghijklmnopqrstuvwxyz\")\n",
    "    5\n",
    "    \"\"\"\n",
    "    \n",
    "    s = s.lower()\n",
    "    letters = \"aeiou\"\n",
    "    count = sum(s.count(letter) for letter in letters)\n",
    "    return count"
   ]
  },
  {
   "cell_type": "markdown",
   "metadata": {
    "id": "t2ClV_Y0bbr6"
   },
   "source": [
    "# Задача 2\n",
    "Написать функцию на вход, которой подается строка. Функция должна вернуть true, если\n",
    "каждый символ в строке встречается только 1 раз, иначе должна вернуть false. Написать тесты для кода"
   ]
  },
  {
   "cell_type": "code",
   "execution_count": 23,
   "metadata": {
    "id": "FppbECao6VIz"
   },
   "outputs": [
    {
     "name": "stdout",
     "output_type": "stream",
     "text": [
      "Running doctests for isUniqeString...\n",
      "\n",
      "Finding tests in isUniqeString\n",
      "Trying:\n",
      "    isUniqeString(\"iritrtf\")\n",
      "Expecting:\n",
      "    False\n",
      "ok\n",
      "Trying:\n",
      "    isUniqeString(\"Uniqe\")\n",
      "Expecting:\n",
      "    True\n",
      "ok\n"
     ]
    }
   ],
   "source": [
    "%%doctest_magic\n",
    "def isUniqeString(s):\n",
    "    \"\"\"\n",
    "    >>> isUniqeString(\"iritrtf\")\n",
    "    False\n",
    "    >>> isUniqeString(\"Uniqe\")\n",
    "    True\n",
    "    \"\"\"\n",
    "    \n",
    "    setted = set(s)\n",
    "    return len(setted) == len(s)"
   ]
  },
  {
   "cell_type": "markdown",
   "metadata": {
    "id": "udRiIK1cdt6E"
   },
   "source": [
    "# Задача 3\n",
    "Написать функцию, которая принимает положительное число и возвращает количество\n",
    "бит равных 1 в этом числе. Написать тесты для кода"
   ]
  },
  {
   "cell_type": "code",
   "execution_count": 24,
   "metadata": {
    "id": "6tkfDJRz6dp_"
   },
   "outputs": [
    {
     "name": "stdout",
     "output_type": "stream",
     "text": [
      "Running doctests for oneCounting...\n",
      "\n",
      "Finding tests in oneCounting\n",
      "Trying:\n",
      "    oneCounting(2)\n",
      "Expecting:\n",
      "    1\n",
      "ok\n",
      "Trying:\n",
      "    oneCounting(0)\n",
      "Expecting:\n",
      "    0\n",
      "ok\n",
      "Trying:\n",
      "    oneCounting(1023)\n",
      "Expecting:\n",
      "    10\n",
      "ok\n"
     ]
    }
   ],
   "source": [
    "%%doctest_magic\n",
    "def oneCounting(n):\n",
    "    \"\"\"\n",
    "    >>> oneCounting(2)\n",
    "    1\n",
    "    >>> oneCounting(0)\n",
    "    0\n",
    "    >>> oneCounting(1023)\n",
    "    10\n",
    "    \"\"\"\n",
    "    \n",
    "    binned = bin(n)\n",
    "    count = binned.count('1')\n",
    "    return count"
   ]
  },
  {
   "cell_type": "markdown",
   "metadata": {
    "id": "26dDUz-Ae17N"
   },
   "source": [
    "# Задача 4\n",
    "Написать функцию, которая принимает положительное число. Функция должна вернуть то,\n",
    "сколько раз необходимо перемножать цифры числа или результат перемножения, чтобы\n",
    "получилось число состоящее из одной цифры.\n",
    "Например, для входного числа:\n",
    "· 39 функция должна вернуть 3, так как 3*9=27 => 2*7=14 => 1*4=4\n",
    "· 4 функция должна вернуть 0, так как число уже состоит из одной цифры\n",
    "· 999 функция должна вернуть 4, так как 9*9*9=729 => 7*2*9=126 => 1*2*6=12 =>\n",
    "1*2=2. Написать тесты для кода"
   ]
  },
  {
   "cell_type": "code",
   "execution_count": 25,
   "metadata": {
    "id": "BH1A_Mgi6i4G"
   },
   "outputs": [
    {
     "name": "stdout",
     "output_type": "stream",
     "text": [
      "Running doctests for magic...\n",
      "\n",
      "Finding tests in magic\n",
      "Trying:\n",
      "    magic(39)\n",
      "Expecting:\n",
      "    3\n",
      "ok\n",
      "Trying:\n",
      "    magic(999)\n",
      "Expecting:\n",
      "    4\n",
      "ok\n",
      "Trying:\n",
      "    magic(4)\n",
      "Expecting:\n",
      "    0\n",
      "ok\n"
     ]
    }
   ],
   "source": [
    "%%doctest_magic\n",
    "def magic(n):\n",
    "    \"\"\"\n",
    "    >>> magic(39)\n",
    "    3\n",
    "    >>> magic(999)\n",
    "    4\n",
    "    >>> magic(4)\n",
    "    0\n",
    "    \"\"\"\n",
    "    \n",
    "    if n < 10:\n",
    "        return 0\n",
    "    count = 0\n",
    "    while n >= 10:\n",
    "        n2 = 1\n",
    "        while n > 0:\n",
    "            n2 *= n % 10\n",
    "            n //= 10\n",
    "        n = n2\n",
    "        count += 1\n",
    "    return count"
   ]
  },
  {
   "cell_type": "markdown",
   "metadata": {
    "id": "0nS-kIa8g8vd"
   },
   "source": [
    "# Задача 5\n",
    "Написать функцию, которая принимает два целочисленных вектора одинаковой длины и\n",
    "возвращает среднеквадратическое отклонение двух векторов. Написать тесты для кода"
   ]
  },
  {
   "cell_type": "code",
   "execution_count": 27,
   "metadata": {
    "id": "8iphx4LM6xbx"
   },
   "outputs": [
    {
     "name": "stdout",
     "output_type": "stream",
     "text": [
      "Running doctests for mse...\n",
      "\n",
      "Finding tests in mse\n",
      "Trying:\n",
      "    mse([1, 2, 3], [4, 5, 6])\n",
      "Expecting:\n",
      "    (0.816496580927726, 0.816496580927726)\n",
      "ok\n",
      "Trying:\n",
      "    mse([10, 20, 30], [10, 20, 30])\n",
      "Expecting:\n",
      "    (8.16496580927726, 8.16496580927726)\n",
      "ok\n",
      "Trying:\n",
      "    mse([1, 2, 3, 4], [4, 5, 6, 7])\n",
      "Expecting:\n",
      "    (1.118033988749895, 1.118033988749895)\n",
      "ok\n"
     ]
    }
   ],
   "source": [
    "%%doctest_magic\n",
    "def mse(pred, true):\n",
    "    \"\"\"\n",
    "    >>> mse([1, 2, 3], [4, 5, 6])\n",
    "    (0.816496580927726, 0.816496580927726)\n",
    "    >>> mse([10, 20, 30], [10, 20, 30])\n",
    "    (8.16496580927726, 8.16496580927726)\n",
    "    >>> mse([1, 2, 3, 4], [4, 5, 6, 7])\n",
    "    (1.118033988749895, 1.118033988749895)\n",
    "    \"\"\"\n",
    "    \n",
    "    n1 = sum(pred) / len(pred)\n",
    "    otcl1 = (sum((x - n1) ** 2 for x in pred) / len(pred)) ** 0.5\n",
    "    \n",
    "    n2 = sum(true) / len(true)\n",
    "    otcl2 = (sum((y - n2) ** 2 for y in true) / len(true)) ** 0.5\n",
    "    \n",
    "    return otcl1, otcl2"
   ]
  },
  {
   "cell_type": "markdown",
   "metadata": {
    "id": "vpIPKL439zkw"
   },
   "source": [
    "# Задача 6\n",
    "Написать функцию, принимающая целое положительное число. Функция должна вернуть\n",
    "строку вида “(n1**p1)(n2**p2)…(nk**pk)” представляющая разложение числа на простые\n",
    "множители (если pi == 1, то выводить только ni).\n",
    "Например, для числа 86240 функция должна вернуть “(2**5)(5)(7**2)(11)”. Написать тесты для кода"
   ]
  },
  {
   "cell_type": "code",
   "execution_count": 32,
   "metadata": {
    "id": "pFebmcZk94Jw"
   },
   "outputs": [
    {
     "name": "stdout",
     "output_type": "stream",
     "text": [
      "Running doctests for magic...\n",
      "\n",
      "Finding tests in magic\n",
      "Trying:\n",
      "    magic(86240)\n",
      "Expecting:\n",
      "    '(5**2)(5)(2**7)(11)'\n",
      "ok\n",
      "Trying:\n",
      "    magic(13)\n",
      "Expecting:\n",
      "    '(13)'\n",
      "ok\n",
      "Trying:\n",
      "    magic(60)\n",
      "Expecting:\n",
      "    '(2**2)(3)(5)'\n",
      "ok\n"
     ]
    }
   ],
   "source": [
    "%%doctest_magic\n",
    "def magic(n):\n",
    "    \"\"\"\n",
    "    >>> magic(86240)\n",
    "    '(5**2)(5)(2**7)(11)'\n",
    "    >>> magic(13)\n",
    "    '(13)'\n",
    "    >>> magic(60)\n",
    "    '(2**2)(3)(5)'\n",
    "    \"\"\"\n",
    "    \n",
    "    nums = {}\n",
    "\n",
    "    while n % 2 == 0:\n",
    "        if 2 in nums:\n",
    "            nums[2] += 1\n",
    "        else:\n",
    "            nums[2] = 1\n",
    "        n //= 2\n",
    "\n",
    "    for i in range(3, int(n**0.5) + 1, 2):\n",
    "        while n % i == 0:\n",
    "            if i in nums:\n",
    "                nums[i] += 1\n",
    "            else:\n",
    "                nums[i] = 1\n",
    "            n //= i\n",
    "\n",
    "    if n > 2:\n",
    "        nums[n] = 1\n",
    "\n",
    "    result = []\n",
    "    for n1, n2 in nums.items():\n",
    "        if n2 > 1:\n",
    "            result.append(f\"({n2}**{n1})\")\n",
    "        else:\n",
    "            result.append(f\"({n1})\")\n",
    "    \n",
    "    return ''.join(result)"
   ]
  },
  {
   "cell_type": "markdown",
   "metadata": {
    "id": "ps2s0BudX7A2"
   },
   "source": [
    "# Задача 7\n",
    "Написать функцию, принимающая целое число n, задающее количество кубиков. Функция\n",
    "должна определить, можно ли из данного кол-ва кубиков построить пирамиду, то есть\n",
    "можно ли представить число n как 1^2+2^2+3^2+…+k^2. Если можно, то функция должна\n",
    "вернуть k, иначе строку “It is impossible”. Написать тесты для кода"
   ]
  },
  {
   "cell_type": "code",
   "execution_count": 34,
   "metadata": {
    "id": "3YPjEXxhX_YT"
   },
   "outputs": [
    {
     "name": "stdout",
     "output_type": "stream",
     "text": [
      "Running doctests for pyramid...\n",
      "\n",
      "Finding tests in pyramid\n",
      "Trying:\n",
      "    pyramid(5)\n",
      "Expecting:\n",
      "    2\n",
      "ok\n",
      "Trying:\n",
      "    pyramid(91)\n",
      "Expecting:\n",
      "    6\n",
      "ok\n",
      "Trying:\n",
      "    pyramid(6)\n",
      "Expecting:\n",
      "    'It is impossible'\n",
      "ok\n"
     ]
    }
   ],
   "source": [
    "%%doctest_magic\n",
    "def pyramid(number):\n",
    "    \"\"\"\n",
    "    >>> pyramid(5)\n",
    "    2\n",
    "    >>> pyramid(91)\n",
    "    6\n",
    "    >>> pyramid(6)\n",
    "    'It is impossible'\n",
    "    \"\"\"\n",
    "    \n",
    "    k = 1\n",
    "    suma = 0\n",
    "\n",
    "    while suma < number:\n",
    "        suma += k**2\n",
    "        if suma == number:\n",
    "            return k\n",
    "        k += 1\n",
    "\n",
    "    return \"It is impossible\""
   ]
  },
  {
   "cell_type": "markdown",
   "metadata": {
    "id": "KeKgmIdAQMEJ"
   },
   "source": [
    "# Задача 8\n",
    "Функция принимает на вход положительное число и определяет является ли оно сбалансированным, т.е. сумма цифр до средних равна сумме цифр после. Средними в случае нечетного числа цифр считать одну цифру, в случае четного - две средних. Написать тесты для кода"
   ]
  },
  {
   "cell_type": "code",
   "execution_count": 35,
   "metadata": {
    "id": "gMAAqtqlQrZt"
   },
   "outputs": [
    {
     "name": "stdout",
     "output_type": "stream",
     "text": [
      "Running doctests for isBalancedNumber...\n",
      "\n",
      "Finding tests in isBalancedNumber\n",
      "Trying:\n",
      "    isBalancedNumber(12321)\n",
      "Expecting:\n",
      "    True\n",
      "ok\n",
      "Trying:\n",
      "    isBalancedNumber(123456)\n",
      "Expecting:\n",
      "    False\n",
      "ok\n",
      "Trying:\n",
      "    isBalancedNumber(0)\n",
      "Expecting:\n",
      "    True\n",
      "ok\n"
     ]
    }
   ],
   "source": [
    "%%doctest_magic\n",
    "def isBalancedNumber(n):\n",
    "    \"\"\"\n",
    "    >>> isBalancedNumber(12321)\n",
    "    True\n",
    "    >>> isBalancedNumber(123456)\n",
    "    False\n",
    "    >>> isBalancedNumber(0)\n",
    "    True\n",
    "    \"\"\"\n",
    "    \n",
    "    strN = str(n)\n",
    "    length = len(strN)\n",
    "\n",
    "    if length % 2 == 0:\n",
    "        mid = length // 2\n",
    "        lSum = sum(int(digit) for digit in strN[:mid])\n",
    "        rSum = sum(int(digit) for digit in strN[mid:])\n",
    "    else:\n",
    "        mid = length // 2\n",
    "        lSum = sum(int(digit) for digit in strN[:mid])\n",
    "        rSum = sum(int(digit) for digit in strN[mid + 1:])\n",
    "\n",
    "    return lSum == rSum"
   ]
  }
 ],
 "metadata": {
  "colab": {
   "provenance": []
  },
  "kernelspec": {
   "display_name": "Python 3 (ipykernel)",
   "language": "python",
   "name": "python3"
  },
  "language_info": {
   "codemirror_mode": {
    "name": "ipython",
    "version": 3
   },
   "file_extension": ".py",
   "mimetype": "text/x-python",
   "name": "python",
   "nbconvert_exporter": "python",
   "pygments_lexer": "ipython3",
   "version": "3.12.3"
  }
 },
 "nbformat": 4,
 "nbformat_minor": 4
}
